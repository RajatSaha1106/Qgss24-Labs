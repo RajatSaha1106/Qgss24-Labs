{
 "cells": [
  {
   "cell_type": "code",
   "execution_count": 2,
   "metadata": {},
   "outputs": [],
   "source": [
    "from qiskit import QuantumCircuit,transpile\n",
    "from qiskit_aer import AerSimulator \n",
    "from qiskit.providers.fake_provider import GenericBackendV2\n",
    "from qiskit.transpiler.preset_passmanagers import generate_preset_pass_manager\n",
    "\n",
    "import numpy as np\n",
    "from qiskit.circuit.library import IQP\n",
    "from qiskit.quantum_info import random_hermitian \n",
    "from qiskit_ibm_runtime import QiskitRuntimeService,SamplerV2 as Sampler\n",
    "from qiskit_ibm_runtime.fake_provider import FakeKyoto\n",
    "import json"
   ]
  },
  {
   "cell_type": "code",
   "execution_count": 3,
   "metadata": {},
   "outputs": [],
   "source": [
    "service=QiskitRuntimeService()"
   ]
  },
  {
   "cell_type": "code",
   "execution_count": 4,
   "metadata": {},
   "outputs": [],
   "source": [
    "n_qubits=127\n",
    "mat=np.real(random_hermitian(n_qubits,seed=1234))\n",
    "circuit=IQP(mat)\n",
    "circuit.measure_all()"
   ]
  },
  {
   "cell_type": "code",
   "execution_count": 5,
   "metadata": {},
   "outputs": [
    {
     "data": {
      "text/plain": [
       "'ibm_osaka'"
      ]
     },
     "execution_count": 5,
     "metadata": {},
     "output_type": "execute_result"
    }
   ],
   "source": [
    "from qiskit_ibm_runtime import EstimatorV2 as Estimator\n",
    "from qiskit.quantum_info import SparsePauliOp \n",
    "from qiskit_ibm_runtime import Session\n",
    "backend=service.least_busy(\n",
    "    operational=True,\n",
    "    simulator=False\n",
    ")\n",
    "backend.name"
   ]
  },
  {
   "cell_type": "code",
   "execution_count": 29,
   "metadata": {},
   "outputs": [],
   "source": [
    "num_qubits=100\n",
    "bell=QuantumCircuit(num_qubits)\n",
    "bell.h(0)\n",
    "for i in range (num_qubits-1): \n",
    "    bell.cx(i,i+1)\n",
    "\n",
    "isa_bell=transpile(bell,backend)\n",
    "obs=SparsePauliOp([\"Z\"*num_qubits])\n",
    "isa_obs=obs.apply_layout(isa_bell.layout)\n"
   ]
  },
  {
   "cell_type": "code",
   "execution_count": 31,
   "metadata": {},
   "outputs": [
    {
     "name": "stdout",
     "output_type": "stream",
     "text": [
      "Job Id::ctb1hyqvmx80008rjy10\n"
     ]
    }
   ],
   "source": [
    "estimator=Estimator(backend)\n",
    "pub=(isa_bell,isa_obs)\n",
    "est_job_bell=estimator.run([pub])\n",
    "print(f\"Job Id::{est_job_bell.job_id()}\")\n",
    "result=est_job_bell.result()[0]"
   ]
  },
  {
   "cell_type": "code",
   "execution_count": 32,
   "metadata": {},
   "outputs": [
    {
     "name": "stdout",
     "output_type": "stream",
     "text": [
      "Num Qubits:: 100\n",
      "<ZZ> = 0.667+-0.534\n"
     ]
    }
   ],
   "source": [
    "data=result.data \n",
    "evs=data.evs \n",
    "std=data.stds \n",
    "print(f\"Num Qubits:: {bell.num_qubits}\")\n",
    "print(f\"<ZZ> = {evs:.3f}+-{std:.3f}\")"
   ]
  },
  {
   "cell_type": "code",
   "execution_count": null,
   "metadata": {},
   "outputs": [],
   "source": [
    "data=result.data \n",
    "evs=data.evs \n",
    "std=data.stds \n",
    "print(f\"Num Qubits:: {bell.num_qubits}\")\n",
    "print(f\"<ZZ> = {evs:.3f}+-{std:.3f}\")"
   ]
  },
  {
   "cell_type": "code",
   "execution_count": 8,
   "metadata": {},
   "outputs": [],
   "source": [
    "count=1\n",
    "itr=[]\n",
    "Obs_records=[]\n",
    "std_records=[]"
   ]
  },
  {
   "cell_type": "code",
   "execution_count": 46,
   "metadata": {},
   "outputs": [
    {
     "name": "stdout",
     "output_type": "stream",
     "text": [
      "Num Qubits:: 10\n",
      "Job Id::ctb1q6c7pt6g0084kss0 for iteration 1\n",
      "Num Qubits:: 20\n",
      "Job Id::ctb1wd17pt6g0084ktqg for iteration 2\n",
      "Num Qubits:: 30\n",
      "Job Id::ctb1wm2df6zg0080sh40 for iteration 3\n",
      "Num Qubits:: 40\n",
      "Job Id::ctb1wvb0jacg008w66h0 for iteration 4\n",
      "Num Qubits:: 50\n",
      "Job Id::ctb1x6wc2sk0008c3kzg for iteration 5\n"
     ]
    }
   ],
   "source": [
    "with Session(backend=backend, service=service) as session:\n",
    "    for i in range (10,101,10):\n",
    "        bell=QuantumCircuit(i)\n",
    "        bell.h(0)\n",
    "        for j in range (i-1): \n",
    "           bell.cx(j,j+1)\n",
    "        isa_bell=transpile(bell,backend)\n",
    "        obs=SparsePauliOp([\"Z\"*i])\n",
    "        isa_obs=obs.apply_layout(isa_bell.layout)\n",
    "        estimator=Estimator(backend)\n",
    "        pub=(isa_bell,isa_obs)\n",
    "        est_job_bell=estimator.run([pub])\n",
    "        print(f\"Num Qubits:: {bell.num_qubits}\")\n",
    "        print(f\"Job Id::{est_job_bell.job_id()} for iteration {count}\")\n",
    "        result=est_job_bell.result()[0]\n",
    "        count+=1\n",
    "        data=result.data\n",
    "        evs=data.evs\n",
    "        std=data.stds \n",
    "        Obs_records.append(evs)\n",
    "        std_records.append(std)"
   ]
  },
  {
   "cell_type": "code",
   "execution_count": 9,
   "metadata": {},
   "outputs": [],
   "source": [
    "job01=service.job(\"ctb1q6c7pt6g0084kss0\")\n",
    "result01=job01.result()[0]\n",
    "Obs_records.append(result01.data.evs)\n",
    "std_records.append(result01.data.stds)"
   ]
  },
  {
   "cell_type": "code",
   "execution_count": 10,
   "metadata": {},
   "outputs": [],
   "source": [
    "job02=service.job(\"ctb1wd17pt6g0084ktqg\")\n",
    "result02=job02.result()[0]\n",
    "Obs_records.append(result02.data.evs)\n",
    "std_records.append(result02.data.stds)"
   ]
  },
  {
   "cell_type": "code",
   "execution_count": 11,
   "metadata": {},
   "outputs": [],
   "source": [
    "job03=service.job(\"ctb1wm2df6zg0080sh40\")\n",
    "result03=job03.result()[0]\n",
    "Obs_records.append(result03.data.evs)\n",
    "std_records.append(result03.data.stds)"
   ]
  },
  {
   "cell_type": "code",
   "execution_count": 12,
   "metadata": {},
   "outputs": [],
   "source": [
    "job04=service.job(\"ctb1wvb0jacg008w66h0\")\n",
    "result04=job04.result()[0]\n",
    "Obs_records.append(result04.data.evs)\n",
    "std_records.append(result04.data.stds)"
   ]
  },
  {
   "cell_type": "code",
   "execution_count": 15,
   "metadata": {},
   "outputs": [],
   "source": []
  },
  {
   "cell_type": "code",
   "execution_count": 13,
   "metadata": {},
   "outputs": [],
   "source": [
    "import matplotlib.pyplot as plt"
   ]
  },
  {
   "cell_type": "code",
   "execution_count": 19,
   "metadata": {},
   "outputs": [
    {
     "data": {
      "image/png": "[encoded data removed]",
      "text/plain": [
       "<Figure size 1200x600 with 1 Axes>"
      ]
     },
     "metadata": {},
     "output_type": "display_data"
    }
   ],
   "source": [
    "Iter=[i for i in range (1,5)]\n",
    "plt.figure(figsize=(12,6))\n",
    "plt.plot(Iter,Obs_records,\"o-\",label=\"Expectation Values\")\n",
    "plt.plot(Iter,std_records,\"o-\",label=\"Standard Deviation\")\n",
    "plt.ylabel(\"Parameter Values\")\n",
    "plt.xlabel(\"Iteration Number\")\n",
    "plt.legend()\n",
    "plt.show()"
   ]
  },
  {
   "cell_type": "code",
   "execution_count": null,
   "metadata": {},
   "outputs": [],
   "source": []
  }
 ],
 "metadata": {
  "kernelspec": {
   "display_name": "Python 3",
   "language": "python",
   "name": "python3"
  },
  "language_info": {
   "codemirror_mode": {
    "name": "ipython",
    "version": 3
   },
   "file_extension": ".py",
   "mimetype": "text/x-python",
   "name": "python",
   "nbconvert_exporter": "python",
   "pygments_lexer": "ipython3",
   "version": "3.11.0"
  }
 },
 "nbformat": 4,
 "nbformat_minor": 2
}
